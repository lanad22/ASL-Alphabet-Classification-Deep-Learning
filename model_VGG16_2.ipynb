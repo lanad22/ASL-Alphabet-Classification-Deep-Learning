{
 "cells": [
  {
   "cell_type": "code",
   "execution_count": 11,
   "metadata": {},
   "outputs": [],
   "source": [
    "import os\n",
    "os.environ['TF_CPP_MIN_LOG_LEVEL'] = '2'"
   ]
  },
  {
   "cell_type": "code",
   "execution_count": 13,
   "metadata": {},
   "outputs": [],
   "source": [
    "import tensorflow as tf\n",
    "import cv2\n",
    "import numpy as np\n",
    "import matplotlib.pyplot as plt\n",
    "from tensorflow.keras.preprocessing.image import ImageDataGenerator\n",
    "from keras.layers import Flatten, Dense, Dropout\n",
    "from tensorflow.keras.callbacks import EarlyStopping, ModelCheckpoint\n",
    "from tensorflow.keras import layers, Model\n",
    "from tensorflow.keras.applications import VGG16\n"
   ]
  },
  {
   "cell_type": "code",
   "execution_count": 5,
   "metadata": {},
   "outputs": [],
   "source": [
    "TRAINING_PATH = 'asl_alphabet_train/'\n",
    "TEST_PATH = 'asl_alphabet_test/'"
   ]
  },
  {
   "cell_type": "code",
   "execution_count": 16,
   "metadata": {},
   "outputs": [],
   "source": [
    "IMAGE_SIZE = 200\n",
    "BATCH_SIZE = 64"
   ]
  },
  {
   "cell_type": "code",
   "execution_count": 17,
   "metadata": {},
   "outputs": [
    {
     "name": "stdout",
     "output_type": "stream",
     "text": [
      "Found 78300 images belonging to 29 classes.\n",
      "Found 8700 images belonging to 29 classes.\n"
     ]
    }
   ],
   "source": [
    "datagen_augmented = ImageDataGenerator(\n",
    "    samplewise_center=True, \n",
    "    samplewise_std_normalization=True,\n",
    "    brightness_range=[0.8, 1.0],\n",
    "    zoom_range=[1.0, 1.2],\n",
    "    validation_split=0.1\n",
    ")\n",
    "\n",
    "traingen_augmented = datagen_augmented.flow_from_directory(TRAINING_PATH, target_size=(IMAGE_SIZE, IMAGE_SIZE), shuffle=True, seed=13,\n",
    "                                                     class_mode='categorical', batch_size=BATCH_SIZE, subset=\"training\")\n",
    "\n",
    "validgen_augmented = datagen_augmented.flow_from_directory(TRAINING_PATH, target_size=(IMAGE_SIZE, IMAGE_SIZE), shuffle=True, seed=13,\n",
    "                                                     class_mode='categorical', batch_size=BATCH_SIZE, subset=\"validation\")"
   ]
  },
  {
   "cell_type": "code",
   "execution_count": 6,
   "metadata": {},
   "outputs": [],
   "source": [
    "VGG16_model = VGG16(\n",
    "    input_shape = (IMAGE_SIZE, IMAGE_SIZE, 3), \n",
    "    include_top = False, \n",
    "    weights = 'imagenet'\n",
    ")\n",
    "for layer in VGG16_model.layers:\n",
    "    layer.trainable = False\n",
    "    \n",
    "x = VGG16_model.output\n",
    "x = Flatten()(x)\n",
    "x = Dense(512, activation='relu')(x)\n",
    "x = Dropout(0.5)(x)\n",
    "x = Dense(512, activation='relu')(x)\n",
    "x = Dropout(0.5)(x)\n",
    "predictions = Dense(29, activation='softmax')(x)"
   ]
  },
  {
   "cell_type": "code",
   "execution_count": 7,
   "metadata": {},
   "outputs": [],
   "source": [
    "VGG16_model = Model(VGG16_model.input, predictions) \n",
    "VGG16_model.compile(\n",
    "    optimizer=tf.keras.optimizers.legacy.Adam(learning_rate=0.001),\n",
    "    loss='categorical_crossentropy',\n",
    "    metrics=['accuracy']\n",
    ")\n",
    "checkpoint = ModelCheckpoint('asl_vgg16_best_weights.h5', save_best_only=True, monitor='val_accuracy', mode='max')"
   ]
  },
  {
   "cell_type": "code",
   "execution_count": 8,
   "metadata": {},
   "outputs": [
    {
     "name": "stdout",
     "output_type": "stream",
     "text": [
      "Epoch 1/10\n",
      "100/100 [==============================] - 911s 9s/step - loss: 2.8874 - accuracy: 0.1889 - val_loss: 1.7181 - val_accuracy: 0.5219\n",
      "Epoch 2/10\n",
      "100/100 [==============================] - 950s 10s/step - loss: 1.6548 - accuracy: 0.4623 - val_loss: 0.8455 - val_accuracy: 0.7534\n",
      "Epoch 3/10\n",
      "100/100 [==============================] - 951s 10s/step - loss: 1.1997 - accuracy: 0.5906 - val_loss: 0.5752 - val_accuracy: 0.7934\n",
      "Epoch 4/10\n",
      "100/100 [==============================] - 930s 9s/step - loss: 0.9430 - accuracy: 0.6730 - val_loss: 0.4580 - val_accuracy: 0.8619\n",
      "Epoch 5/10\n",
      "100/100 [==============================] - 913s 9s/step - loss: 0.8377 - accuracy: 0.7055 - val_loss: 0.4638 - val_accuracy: 0.8519\n",
      "Epoch 6/10\n",
      "100/100 [==============================] - 908s 9s/step - loss: 0.7386 - accuracy: 0.7398 - val_loss: 0.4567 - val_accuracy: 0.8525\n",
      "Epoch 7/10\n",
      "100/100 [==============================] - 875s 9s/step - loss: 0.6693 - accuracy: 0.7698 - val_loss: 0.3356 - val_accuracy: 0.8919\n",
      "Epoch 8/10\n",
      "100/100 [==============================] - 888s 9s/step - loss: 0.6470 - accuracy: 0.7806 - val_loss: 0.3671 - val_accuracy: 0.8731\n",
      "Epoch 9/10\n",
      "100/100 [==============================] - 888s 9s/step - loss: 0.6182 - accuracy: 0.7912 - val_loss: 0.3377 - val_accuracy: 0.8984\n",
      "Epoch 10/10\n",
      "100/100 [==============================] - 901s 9s/step - loss: 0.5851 - accuracy: 0.7953 - val_loss: 0.3607 - val_accuracy: 0.8778\n"
     ]
    }
   ],
   "source": [
    "VGG_history= VGG16_model.fit(\n",
    "    traingen_augmented,\n",
    "    validation_data=validgen_augmented,\n",
    "    steps_per_epoch=100,\n",
    "    validation_steps = 50,\n",
    "    epochs = 10\n",
    ")"
   ]
  },
  {
   "cell_type": "code",
   "execution_count": 11,
   "metadata": {},
   "outputs": [
    {
     "name": "stdout",
     "output_type": "stream",
     "text": [
      "Epoch 11/20\n",
      "100/100 [==============================] - 863s 9s/step - loss: 0.5442 - accuracy: 0.8125 - val_loss: 0.3191 - val_accuracy: 0.8941\n",
      "Epoch 12/20\n",
      "100/100 [==============================] - 889s 9s/step - loss: 0.4914 - accuracy: 0.8319 - val_loss: 0.2595 - val_accuracy: 0.9119\n",
      "Epoch 13/20\n",
      "100/100 [==============================] - 897s 9s/step - loss: 0.4962 - accuracy: 0.8295 - val_loss: 0.2870 - val_accuracy: 0.9128\n",
      "Epoch 14/20\n",
      "100/100 [==============================] - 878s 9s/step - loss: 0.4722 - accuracy: 0.8342 - val_loss: 0.2668 - val_accuracy: 0.9178\n",
      "Epoch 15/20\n",
      "100/100 [==============================] - 895s 9s/step - loss: 0.4852 - accuracy: 0.8336 - val_loss: 0.2676 - val_accuracy: 0.9134\n",
      "Epoch 16/20\n",
      "100/100 [==============================] - 877s 9s/step - loss: 0.4348 - accuracy: 0.8539 - val_loss: 0.2744 - val_accuracy: 0.9103\n",
      "Epoch 17/20\n",
      "100/100 [==============================] - 919s 9s/step - loss: 0.4191 - accuracy: 0.8542 - val_loss: 0.2635 - val_accuracy: 0.9250\n",
      "Epoch 18/20\n",
      "100/100 [==============================] - 981s 10s/step - loss: 0.4249 - accuracy: 0.8597 - val_loss: 0.2714 - val_accuracy: 0.9072\n",
      "Epoch 19/20\n",
      "100/100 [==============================] - 987s 10s/step - loss: 0.4267 - accuracy: 0.8528 - val_loss: 0.2549 - val_accuracy: 0.9141\n",
      "Epoch 20/20\n",
      "100/100 [==============================] - 990s 10s/step - loss: 0.4214 - accuracy: 0.8533 - val_loss: 0.2988 - val_accuracy: 0.8963\n"
     ]
    }
   ],
   "source": [
    "VGG_history = VGG16_model.fit(\n",
    "    traingen_augmented,\n",
    "    validation_data=validgen_augmented,\n",
    "    steps_per_epoch=100,\n",
    "    validation_steps=50,\n",
    "    epochs=20,  # We want to continue to epoch 20, so this is set to 20\n",
    "    initial_epoch=10  # Training has already completed 10 epochs, so this starts at 10\n",
    ")\n"
   ]
  },
  {
   "cell_type": "code",
   "execution_count": 14,
   "metadata": {},
   "outputs": [],
   "source": [
    "\n",
    "loss = [2.8874, 1.6548, 1.1997, 0.9430, 0.8377, 0.7386, 0.6693, 0.6470, 0.6182, 0.5851]\n",
    "accuracy = [0.1889, 0.4623, 0.5906, 0.6730, 0.7055, 0.7398, 0.7698, 0.7806, 0.7912, 0.7953]\n",
    "val_loss = [1.7181, 0.8455, 0.5752, 0.4580, 0.4638, 0.4567, 0.3356, 0.3671, 0.3377, 0.3607]\n",
    "val_accuracy = [0.5219, 0.7534, 0.7934, 0.8619, 0.8519, 0.8525, 0.8919, 0.8731, 0.8984, 0.8778]\n"
   ]
  },
  {
   "cell_type": "code",
   "execution_count": 27,
   "metadata": {},
   "outputs": [],
   "source": [
    "VGG16_model.save('vgg_2_asl_alphabet_9575.h5')"
   ]
  },
  {
   "cell_type": "code",
   "execution_count": 7,
   "metadata": {},
   "outputs": [],
   "source": [
    "train_acc = [0.1889, 0.4623, 0.5906, 0.6730, 0.7055, 0.7398, 0.7698, 0.7806, 0.7912, 0.7953, 0.8125, 0.8319, 0.8295, 0.8342, 0.8336, 0.8539, 0.8542, 0.8597, 0.8528, 0.8533]\n",
    "val_acc =  [0.5219, 0.7534, 0.7934, 0.8619, 0.8519, 0.8525, 0.8919, 0.8731, 0.8984, 0.8778,0.8941, 0.9119, 0.9128, 0.9178, 0.9134, 0.9103, 0.9250, 0.9072, 0.9141, 0.8963]\n",
    "train_loss = [2.8874, 1.6548, 1.1997, 0.9430, 0.8377, 0.7386, 0.6693, 0.6470, 0.6182, 0.5851,0.5442, 0.4914, 0.4962, 0.4722, 0.4852, 0.4348, 0.4191, 0.4249, 0.4267, 0.4214]\n",
    "val_loss = [1.7181, 0.8455, 0.5752, 0.4580, 0.4638, 0.4567, 0.3356, 0.3671, 0.3377, 0.3607, 0.3191, 0.2595, 0.2870, 0.2668, 0.2676, 0.2744, 0.2635, 0.2714, 0.2549, 0.2988]"
   ]
  },
  {
   "cell_type": "code",
   "execution_count": 8,
   "metadata": {},
   "outputs": [
    {
     "data": {
      "image/png": "[encoded data removed]",
      "text/plain": [
       "<Figure size 1000x500 with 2 Axes>"
      ]
     },
     "metadata": {},
     "output_type": "display_data"
    }
   ],
   "source": [
    "epochs = range(len(train_acc))\n",
    "\n",
    "# Create a figure with two subplots\n",
    "plt.figure(figsize=(10, 5))  # Adjust the size as needed\n",
    "\n",
    "# Subplot 1: Training and validation accuracy\n",
    "plt.subplot(1, 2, 1)  # 1 row, 2 columns, 1st subplot\n",
    "plt.plot(epochs, train_acc, 'r', label='Training accuracy')\n",
    "plt.plot(epochs, val_acc, 'b', label='Validation accuracy')\n",
    "plt.title('Training and Validation Accuracy')\n",
    "plt.xlabel('Epochs')\n",
    "plt.ylabel('Accuracy')\n",
    "plt.legend(loc='best')  # You can also use loc=0 for best location\n",
    "\n",
    "# Subplot 2: Training and validation loss\n",
    "plt.subplot(1, 2, 2)  # 1 row, 2 columns, 2nd subplot\n",
    "plt.plot(epochs, train_loss, 'r', label='Training loss')\n",
    "plt.plot(epochs, val_loss, 'b', label='Validation loss')\n",
    "plt.title('Training and Validation Loss')\n",
    "plt.xlabel('Epochs')\n",
    "plt.ylabel('Loss')\n",
    "plt.legend(loc='best')\n",
    "\n",
    "# Show the plots\n",
    "plt.tight_layout()  # Adjusts subplot params so that the subplot(s) fits in to the figure area\n",
    "plt.show()"
   ]
  },
  {
   "cell_type": "code",
   "execution_count": 9,
   "metadata": {},
   "outputs": [],
   "source": [
    "from keras.models import load_model\n",
    "model = load_model('vgg_2_asl_alphabet_9575.h5')"
   ]
  },
  {
   "cell_type": "code",
   "execution_count": 18,
   "metadata": {},
   "outputs": [
    {
     "name": "stdout",
     "output_type": "stream",
     "text": [
      "1/1 [==============================] - 0s 282ms/step\n",
      "Actual class: F - Predicted class: F PASS!\n",
      "1/1 [==============================] - 0s 111ms/step\n",
      "Actual class: G - Predicted class: G PASS!\n",
      "1/1 [==============================] - 0s 113ms/step\n",
      "Actual class: L - Predicted class: L PASS!\n",
      "1/1 [==============================] - 0s 115ms/step\n",
      "Actual class: M - Predicted class: M PASS!\n",
      "1/1 [==============================] - 0s 120ms/step\n",
      "Actual class: R - Predicted class: R PASS!\n",
      "1/1 [==============================] - 0s 120ms/step\n",
      "Actual class: S - Predicted class: S PASS!\n",
      "1/1 [==============================] - 0s 137ms/step\n",
      "Actual class: X - Predicted class: X PASS!\n",
      "1/1 [==============================] - 0s 111ms/step\n",
      "Actual class: Y - Predicted class: Y PASS!\n",
      "1/1 [==============================] - 0s 110ms/step\n",
      "Actual class: U - Predicted class: U PASS!\n",
      "1/1 [==============================] - 0s 113ms/step\n",
      "Actual class: T - Predicted class: T PASS!\n",
      "1/1 [==============================] - 0s 117ms/step\n",
      "Actual class: A - Predicted class: A PASS!\n",
      "1/1 [==============================] - 0s 114ms/step\n",
      "Actual class: K - Predicted class: K PASS!\n",
      "1/1 [==============================] - 0s 112ms/step\n",
      "Actual class: J - Predicted class: J PASS!\n",
      "1/1 [==============================] - 0s 114ms/step\n",
      "Actual class: Z - Predicted class: S FAIL!\n",
      "1/1 [==============================] - 0s 118ms/step\n",
      "Actual class: nothing - Predicted class: nothing PASS!\n",
      "1/1 [==============================] - 0s 115ms/step\n",
      "Actual class: Q - Predicted class: Q PASS!\n",
      "1/1 [==============================] - 0s 116ms/step\n",
      "Actual class: P - Predicted class: P PASS!\n",
      "1/1 [==============================] - 0s 134ms/step\n",
      "Actual class: space - Predicted class: space PASS!\n",
      "1/1 [==============================] - 0s 157ms/step\n",
      "Actual class: O - Predicted class: O PASS!\n",
      "1/1 [==============================] - 0s 115ms/step\n",
      "Actual class: N - Predicted class: N PASS!\n",
      "1/1 [==============================] - 0s 112ms/step\n",
      "Actual class: E - Predicted class: E PASS!\n",
      "1/1 [==============================] - 0s 112ms/step\n",
      "Actual class: D - Predicted class: D PASS!\n",
      "1/1 [==============================] - 0s 116ms/step\n",
      "Actual class: H - Predicted class: H PASS!\n",
      "1/1 [==============================] - 0s 119ms/step\n",
      "Actual class: I - Predicted class: I PASS!\n",
      "1/1 [==============================] - 0s 114ms/step\n",
      "Actual class: B - Predicted class: B PASS!\n",
      "1/1 [==============================] - 0s 129ms/step\n",
      "Actual class: C - Predicted class: C PASS!\n",
      "1/1 [==============================] - 0s 168ms/step\n",
      "Actual class: V - Predicted class: W FAIL!\n",
      "1/1 [==============================] - 0s 117ms/step\n",
      "Actual class: W - Predicted class: W PASS!\n",
      "====================\n",
      "Test accuracy (%): 92.85714285714286\n",
      "Test error rate (%): 7.142857142857142\n",
      "Number of misclassified classes: 2\n",
      "Number of correctly classified classes 26\n"
     ]
    }
   ],
   "source": [
    "classes = os.listdir(TRAINING_PATH)\n",
    "classes.sort()\n",
    "test_images = os.listdir(TEST_PATH)\n",
    "total_test_cases = len(test_images)\n",
    "total_correctly_classified = 0\n",
    "total_misclassified = 0\n",
    "for i, test_image in enumerate(test_images):\n",
    "    image_location = TEST_PATH + test_image\n",
    "    img = cv2.imread(image_location)\n",
    "    img = cv2.resize(img, (200, 200))\n",
    "    img = np.array(img) / 255.\n",
    "    img = img.reshape((1, 200, 200, 3))\n",
    "    img = datagen_augmented.standardize(img)\n",
    "    prediction = np.array(model.predict(img))\n",
    "    actual = test_image.split('_')[0]\n",
    "    predicted = classes[prediction.argmax()]\n",
    "    print('Actual class: {} - Predicted class: {}'.format(\n",
    "        actual, predicted), end=' ')\n",
    "    if actual == predicted:\n",
    "      print('PASS!')\n",
    "      total_correctly_classified += 1\n",
    "    else:\n",
    "      print('FAIL!')\n",
    "      total_misclassified += 1\n",
    "print(\"=\" * 20)\n",
    "test_accuracy = (total_correctly_classified / total_test_cases) * 100\n",
    "test_error_rate = (total_misclassified / total_test_cases) * 100\n",
    "\n",
    "print('Test accuracy (%):', test_accuracy)\n",
    "print('Test error rate (%):', test_error_rate)\n",
    "print('Number of misclassified classes:', total_misclassified)\n",
    "print('Number of correctly classified classes', total_correctly_classified)"
   ]
  }
 ],
 "metadata": {
  "kernelspec": {
   "display_name": "myenv",
   "language": "python",
   "name": "python3"
  },
  "language_info": {
   "codemirror_mode": {
    "name": "ipython",
    "version": 3
   },
   "file_extension": ".py",
   "mimetype": "text/x-python",
   "name": "python",
   "nbconvert_exporter": "python",
   "pygments_lexer": "ipython3",
   "version": "3.9.18"
  }
 },
 "nbformat": 4,
 "nbformat_minor": 2
}
